{
 "cells": [
  {
   "cell_type": "code",
   "execution_count": 3,
   "metadata": {},
   "outputs": [
    {
     "name": "stdout",
     "output_type": "stream",
     "text": [
      "[-150.3332923   -40.80122695   28.95330644]\n",
      "[ 34.19780735  38.42019804 -29.872251  ]\n"
     ]
    }
   ],
   "source": [
    "from scipy.spatial.transform import Rotation as R\n",
    "import numpy as np\n",
    "\n",
    "quat1 = [0.899, -0.14, -0.386, -0.148]\n",
    "quat2 = [0.187, 0.375, -0.139, 0.896]\n",
    "\n",
    "r1 = R.from_quat(quat1)\n",
    "euler1 = r1.as_euler('XYZ', degrees=True)\n",
    "r2 = R.from_quat(quat2)\n",
    "euler2 = r2.as_euler('XYZ', degrees=True)\n",
    "print(euler1)\n",
    "print(euler2)"
   ]
  },
  {
   "cell_type": "code",
   "execution_count": 3,
   "metadata": {},
   "outputs": [
    {
     "name": "stdout",
     "output_type": "stream",
     "text": [
      "[ 0.0746181  -0.02716904  0.11131267  0.99060763]\n"
     ]
    }
   ],
   "source": [
    "e21 = [8.858207, -2.132803, 12.987864]\n",
    "r21 = R.from_euler('XYZ', e21, degrees=True)\n",
    "print(r21.as_quat())"
   ]
  }
 ],
 "metadata": {
  "kernelspec": {
   "display_name": "b31_1",
   "language": "python",
   "name": "python3"
  },
  "language_info": {
   "codemirror_mode": {
    "name": "ipython",
    "version": 3
   },
   "file_extension": ".py",
   "mimetype": "text/x-python",
   "name": "python",
   "nbconvert_exporter": "python",
   "pygments_lexer": "ipython3",
   "version": "3.7.6"
  },
  "orig_nbformat": 4,
  "vscode": {
   "interpreter": {
    "hash": "760a013d11640ef60d4b2387184cc005f6411eb8ae4a5ecfa3d1e72ba4b2744f"
   }
  }
 },
 "nbformat": 4,
 "nbformat_minor": 2
}
