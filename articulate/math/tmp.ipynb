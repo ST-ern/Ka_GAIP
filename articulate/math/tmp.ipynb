{
 "cells": [
  {
   "cell_type": "code",
   "execution_count": 16,
   "metadata": {},
   "outputs": [
    {
     "name": "stdout",
     "output_type": "stream",
     "text": [
      "[[ 1.00000000e+00  0.00000000e+00  0.00000000e+00]\n",
      " [ 0.00000000e+00  2.22044605e-16 -1.00000000e+00]\n",
      " [ 0.00000000e+00  1.00000000e+00  2.22044605e-16]]\n",
      "1.0\n",
      "89.99999999999999\n"
     ]
    }
   ],
   "source": [
    "import cv2\n",
    "from scipy.spatial.transform import Rotation as R\n",
    "import numpy as np\n",
    "from numpy.linalg import  *\n",
    "import math\n",
    "\n",
    "euler = [90, 0, 0]\n",
    "r = R.from_euler('XYZ', euler, degrees=True)\n",
    "mat = r.as_matrix()\n",
    "\n",
    "print(mat)\n",
    "print(det(mat))\n",
    "print(math.degrees(norm(cv2.Rodrigues(mat)[0])))"
   ]
  },
  {
   "cell_type": "code",
   "execution_count": 17,
   "metadata": {},
   "outputs": [
    {
     "name": "stdout",
     "output_type": "stream",
     "text": [
      "1.0004930380660961\n",
      "88.7279871497588\n"
     ]
    }
   ],
   "source": [
    "mat2 = np.array([[ 1.00000000e+00,  0.00000000e+00, 0.00000000e+00],\n",
    " [ 0.00000000e+00, 2.22044605e-2, -1.00000000e+00],\n",
    " [ 0.00000000e+00, 1.00000000e+00, 2.22044605e-2]])\n",
    "print(det(mat2))\n",
    "print(math.degrees(norm(cv2.Rodrigues(mat2)[0])))"
   ]
  }
 ],
 "metadata": {
  "kernelspec": {
   "display_name": "b31_1",
   "language": "python",
   "name": "python3"
  },
  "language_info": {
   "codemirror_mode": {
    "name": "ipython",
    "version": 3
   },
   "file_extension": ".py",
   "mimetype": "text/x-python",
   "name": "python",
   "nbconvert_exporter": "python",
   "pygments_lexer": "ipython3",
   "version": "3.7.6"
  },
  "orig_nbformat": 4,
  "vscode": {
   "interpreter": {
    "hash": "760a013d11640ef60d4b2387184cc005f6411eb8ae4a5ecfa3d1e72ba4b2744f"
   }
  }
 },
 "nbformat": 4,
 "nbformat_minor": 2
}
